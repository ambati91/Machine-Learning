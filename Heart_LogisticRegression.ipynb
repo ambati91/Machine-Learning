{
 "cells": [
  {
   "cell_type": "code",
   "execution_count": 4,
   "metadata": {},
   "outputs": [],
   "source": [
    "import pandas as pd\n",
    "import numpy as np\n",
    "from sklearn.model_selection import train_test_split\n",
    "from sklearn.linear_model import LogisticRegression\n",
    "from sklearn.metrics import accuracy_score\n",
    "from sklearn.metrics import confusion_matrix"
   ]
  },
  {
   "cell_type": "code",
   "execution_count": 5,
   "metadata": {},
   "outputs": [
    {
     "data": {
      "text/html": [
       "<div>\n",
       "<style scoped>\n",
       "    .dataframe tbody tr th:only-of-type {\n",
       "        vertical-align: middle;\n",
       "    }\n",
       "\n",
       "    .dataframe tbody tr th {\n",
       "        vertical-align: top;\n",
       "    }\n",
       "\n",
       "    .dataframe thead th {\n",
       "        text-align: right;\n",
       "    }\n",
       "</style>\n",
       "<table border=\"1\" class=\"dataframe\">\n",
       "  <thead>\n",
       "    <tr style=\"text-align: right;\">\n",
       "      <th></th>\n",
       "      <th>age</th>\n",
       "      <th>sex</th>\n",
       "      <th>cp</th>\n",
       "      <th>trestbps</th>\n",
       "      <th>chol</th>\n",
       "      <th>fbs</th>\n",
       "      <th>restecg</th>\n",
       "      <th>thalach</th>\n",
       "      <th>exang</th>\n",
       "      <th>oldpeak</th>\n",
       "      <th>slope</th>\n",
       "      <th>ca</th>\n",
       "      <th>thal</th>\n",
       "      <th>target</th>\n",
       "    </tr>\n",
       "  </thead>\n",
       "  <tbody>\n",
       "    <tr>\n",
       "      <th>0</th>\n",
       "      <td>63</td>\n",
       "      <td>1</td>\n",
       "      <td>3</td>\n",
       "      <td>145</td>\n",
       "      <td>233</td>\n",
       "      <td>1</td>\n",
       "      <td>0</td>\n",
       "      <td>150</td>\n",
       "      <td>0</td>\n",
       "      <td>2.3</td>\n",
       "      <td>0</td>\n",
       "      <td>0</td>\n",
       "      <td>1</td>\n",
       "      <td>1</td>\n",
       "    </tr>\n",
       "    <tr>\n",
       "      <th>1</th>\n",
       "      <td>37</td>\n",
       "      <td>1</td>\n",
       "      <td>2</td>\n",
       "      <td>130</td>\n",
       "      <td>250</td>\n",
       "      <td>0</td>\n",
       "      <td>1</td>\n",
       "      <td>187</td>\n",
       "      <td>0</td>\n",
       "      <td>3.5</td>\n",
       "      <td>0</td>\n",
       "      <td>0</td>\n",
       "      <td>2</td>\n",
       "      <td>1</td>\n",
       "    </tr>\n",
       "    <tr>\n",
       "      <th>2</th>\n",
       "      <td>41</td>\n",
       "      <td>0</td>\n",
       "      <td>1</td>\n",
       "      <td>130</td>\n",
       "      <td>204</td>\n",
       "      <td>0</td>\n",
       "      <td>0</td>\n",
       "      <td>172</td>\n",
       "      <td>0</td>\n",
       "      <td>1.4</td>\n",
       "      <td>2</td>\n",
       "      <td>0</td>\n",
       "      <td>2</td>\n",
       "      <td>1</td>\n",
       "    </tr>\n",
       "    <tr>\n",
       "      <th>3</th>\n",
       "      <td>56</td>\n",
       "      <td>1</td>\n",
       "      <td>1</td>\n",
       "      <td>120</td>\n",
       "      <td>236</td>\n",
       "      <td>0</td>\n",
       "      <td>1</td>\n",
       "      <td>178</td>\n",
       "      <td>0</td>\n",
       "      <td>0.8</td>\n",
       "      <td>2</td>\n",
       "      <td>0</td>\n",
       "      <td>2</td>\n",
       "      <td>1</td>\n",
       "    </tr>\n",
       "    <tr>\n",
       "      <th>4</th>\n",
       "      <td>57</td>\n",
       "      <td>0</td>\n",
       "      <td>0</td>\n",
       "      <td>120</td>\n",
       "      <td>354</td>\n",
       "      <td>0</td>\n",
       "      <td>1</td>\n",
       "      <td>163</td>\n",
       "      <td>1</td>\n",
       "      <td>0.6</td>\n",
       "      <td>2</td>\n",
       "      <td>0</td>\n",
       "      <td>2</td>\n",
       "      <td>1</td>\n",
       "    </tr>\n",
       "  </tbody>\n",
       "</table>\n",
       "</div>"
      ],
      "text/plain": [
       "   age  sex  cp  trestbps  chol  fbs  restecg  thalach  exang  oldpeak  slope  \\\n",
       "0   63    1   3       145   233    1        0      150      0      2.3      0   \n",
       "1   37    1   2       130   250    0        1      187      0      3.5      0   \n",
       "2   41    0   1       130   204    0        0      172      0      1.4      2   \n",
       "3   56    1   1       120   236    0        1      178      0      0.8      2   \n",
       "4   57    0   0       120   354    0        1      163      1      0.6      2   \n",
       "\n",
       "   ca  thal  target  \n",
       "0   0     1       1  \n",
       "1   0     2       1  \n",
       "2   0     2       1  \n",
       "3   0     2       1  \n",
       "4   0     2       1  "
      ]
     },
     "execution_count": 5,
     "metadata": {},
     "output_type": "execute_result"
    }
   ],
   "source": [
    "heart = pd.read_csv('heart.csv')\n",
    "heart.head()"
   ]
  },
  {
   "cell_type": "code",
   "execution_count": 6,
   "metadata": {},
   "outputs": [
    {
     "data": {
      "text/plain": [
       "(303, 14)"
      ]
     },
     "execution_count": 6,
     "metadata": {},
     "output_type": "execute_result"
    }
   ],
   "source": [
    "heart.shape"
   ]
  },
  {
   "cell_type": "code",
   "execution_count": 10,
   "metadata": {},
   "outputs": [],
   "source": [
    "x = heart.iloc[::,:13]\n",
    "y = heart.iloc[::,13:]"
   ]
  },
  {
   "cell_type": "code",
   "execution_count": 11,
   "metadata": {},
   "outputs": [],
   "source": [
    "x_train,x_test,y_train,y_test = train_test_split(x,y,test_size = 0.8,random_state = 0)"
   ]
  },
  {
   "cell_type": "code",
   "execution_count": 22,
   "metadata": {},
   "outputs": [
    {
     "name": "stdout",
     "output_type": "stream",
     "text": [
      "[[ 79  15]\n",
      " [ 29 120]]\n",
      "0.8189300411522634\n"
     ]
    }
   ],
   "source": [
    "lm = LogisticRegression()\n",
    "lm.fit(x_train,y_train)\n",
    "pred = lm.predict(x_test)\n",
    "cm = confusion_matrix(pred,y_test)\n",
    "accu = accuracy_score(pred,y_test)\n",
    "print(cm)\n",
    "print(accu)"
   ]
  },
  {
   "cell_type": "markdown",
   "metadata": {},
   "source": [
    "# ROC"
   ]
  },
  {
   "cell_type": "code",
   "execution_count": 25,
   "metadata": {},
   "outputs": [
    {
     "name": "stdout",
     "output_type": "stream",
     "text": [
      "coefficient [[-0.01142702 -1.56974676  0.7493488  -0.00908077 -0.01139538 -0.23733376\n",
      "   0.07914789  0.04904846 -0.48811762 -0.33381728  0.09580707 -0.78892245\n",
      "  -0.58091773]]\n",
      "intercept [0.05134507]\n"
     ]
    }
   ],
   "source": [
    "print('coefficient',lm.coef_)\n",
    "print('intercept', lm.intercept_)"
   ]
  },
  {
   "cell_type": "code",
   "execution_count": 33,
   "metadata": {
    "collapsed": true
   },
   "outputs": [
    {
     "data": {
      "text/plain": [
       "array([[0.92458871, 0.07541129],\n",
       "       [0.16477682, 0.83522318],\n",
       "       [0.21167731, 0.78832269],\n",
       "       [0.96165272, 0.03834728],\n",
       "       [0.87162176, 0.12837824],\n",
       "       [0.49676497, 0.50323503],\n",
       "       [0.88978729, 0.11021271],\n",
       "       [0.88145912, 0.11854088],\n",
       "       [0.98948588, 0.01051412],\n",
       "       [0.99739863, 0.00260137],\n",
       "       [0.07933664, 0.92066336],\n",
       "       [0.08711441, 0.91288559],\n",
       "       [0.97133215, 0.02866785],\n",
       "       [0.14738325, 0.85261675],\n",
       "       [0.02603132, 0.97396868],\n",
       "       [0.2501117 , 0.7498883 ],\n",
       "       [0.93387555, 0.06612445],\n",
       "       [0.2180291 , 0.7819709 ],\n",
       "       [0.99678905, 0.00321095],\n",
       "       [0.04638938, 0.95361062],\n",
       "       [0.11977619, 0.88022381],\n",
       "       [0.65311729, 0.34688271],\n",
       "       [0.97392976, 0.02607024],\n",
       "       [0.92605619, 0.07394381],\n",
       "       [0.15459848, 0.84540152],\n",
       "       [0.79175216, 0.20824784],\n",
       "       [0.69147763, 0.30852237],\n",
       "       [0.67401527, 0.32598473],\n",
       "       [0.02161018, 0.97838982],\n",
       "       [0.28250827, 0.71749173],\n",
       "       [0.18996281, 0.81003719],\n",
       "       [0.98424889, 0.01575111],\n",
       "       [0.05706281, 0.94293719],\n",
       "       [0.16436068, 0.83563932],\n",
       "       [0.03997933, 0.96002067],\n",
       "       [0.37787495, 0.62212505],\n",
       "       [0.97484834, 0.02515166],\n",
       "       [0.19581936, 0.80418064],\n",
       "       [0.88583302, 0.11416698],\n",
       "       [0.74574952, 0.25425048],\n",
       "       [0.25148292, 0.74851708],\n",
       "       [0.30482485, 0.69517515],\n",
       "       [0.5413552 , 0.4586448 ],\n",
       "       [0.9559447 , 0.0440553 ],\n",
       "       [0.49974862, 0.50025138],\n",
       "       [0.43381692, 0.56618308],\n",
       "       [0.08323722, 0.91676278],\n",
       "       [0.28487629, 0.71512371],\n",
       "       [0.96940944, 0.03059056],\n",
       "       [0.16045153, 0.83954847],\n",
       "       [0.21047772, 0.78952228],\n",
       "       [0.64086431, 0.35913569],\n",
       "       [0.01819007, 0.98180993],\n",
       "       [0.21556415, 0.78443585],\n",
       "       [0.00281011, 0.99718989],\n",
       "       [0.8142778 , 0.1857222 ],\n",
       "       [0.06596976, 0.93403024],\n",
       "       [0.04931173, 0.95068827],\n",
       "       [0.17275048, 0.82724952],\n",
       "       [0.04535778, 0.95464222],\n",
       "       [0.44065302, 0.55934698],\n",
       "       [0.01032343, 0.98967657],\n",
       "       [0.12981842, 0.87018158],\n",
       "       [0.07397078, 0.92602922],\n",
       "       [0.23937136, 0.76062864],\n",
       "       [0.30528777, 0.69471223],\n",
       "       [0.15137627, 0.84862373],\n",
       "       [0.81405507, 0.18594493],\n",
       "       [0.33352197, 0.66647803],\n",
       "       [0.21115258, 0.78884742],\n",
       "       [0.48074066, 0.51925934],\n",
       "       [0.03271101, 0.96728899],\n",
       "       [0.1220722 , 0.8779278 ],\n",
       "       [0.95129722, 0.04870278],\n",
       "       [0.96686583, 0.03313417],\n",
       "       [0.20651891, 0.79348109],\n",
       "       [0.53631459, 0.46368541],\n",
       "       [0.39719499, 0.60280501],\n",
       "       [0.20340597, 0.79659403],\n",
       "       [0.66160154, 0.33839846],\n",
       "       [0.98575258, 0.01424742],\n",
       "       [0.99011996, 0.00988004],\n",
       "       [0.92111652, 0.07888348],\n",
       "       [0.32358369, 0.67641631],\n",
       "       [0.90675678, 0.09324322],\n",
       "       [0.2952804 , 0.7047196 ],\n",
       "       [0.98017287, 0.01982713],\n",
       "       [0.29695171, 0.70304829],\n",
       "       [0.1812245 , 0.8187755 ],\n",
       "       [0.98040454, 0.01959546],\n",
       "       [0.94668915, 0.05331085],\n",
       "       [0.34318726, 0.65681274],\n",
       "       [0.46968247, 0.53031753],\n",
       "       [0.92685455, 0.07314545],\n",
       "       [0.07162347, 0.92837653],\n",
       "       [0.9847914 , 0.0152086 ],\n",
       "       [0.95908396, 0.04091604],\n",
       "       [0.97850994, 0.02149006],\n",
       "       [0.03667503, 0.96332497],\n",
       "       [0.98029875, 0.01970125],\n",
       "       [0.98643517, 0.01356483],\n",
       "       [0.01479277, 0.98520723],\n",
       "       [0.99766121, 0.00233879],\n",
       "       [0.30811464, 0.69188536],\n",
       "       [0.73749658, 0.26250342],\n",
       "       [0.3424436 , 0.6575564 ],\n",
       "       [0.15029508, 0.84970492],\n",
       "       [0.07956556, 0.92043444],\n",
       "       [0.3182979 , 0.6817021 ],\n",
       "       [0.17078411, 0.82921589],\n",
       "       [0.92373258, 0.07626742],\n",
       "       [0.57054313, 0.42945687],\n",
       "       [0.5589196 , 0.4410804 ],\n",
       "       [0.93473355, 0.06526645],\n",
       "       [0.94623852, 0.05376148],\n",
       "       [0.90739959, 0.09260041],\n",
       "       [0.38819634, 0.61180366],\n",
       "       [0.13190132, 0.86809868],\n",
       "       [0.20972305, 0.79027695],\n",
       "       [0.41460811, 0.58539189],\n",
       "       [0.010538  , 0.989462  ],\n",
       "       [0.24976142, 0.75023858],\n",
       "       [0.20818281, 0.79181719],\n",
       "       [0.47911026, 0.52088974],\n",
       "       [0.461017  , 0.538983  ],\n",
       "       [0.05171835, 0.94828165],\n",
       "       [0.16729942, 0.83270058],\n",
       "       [0.67085436, 0.32914564],\n",
       "       [0.03022442, 0.96977558],\n",
       "       [0.07864602, 0.92135398],\n",
       "       [0.08202352, 0.91797648],\n",
       "       [0.9587507 , 0.0412493 ],\n",
       "       [0.18110931, 0.81889069],\n",
       "       [0.3336407 , 0.6663593 ],\n",
       "       [0.5459252 , 0.4540748 ],\n",
       "       [0.83736367, 0.16263633],\n",
       "       [0.427622  , 0.572378  ],\n",
       "       [0.02282923, 0.97717077],\n",
       "       [0.97152778, 0.02847222],\n",
       "       [0.93878128, 0.06121872],\n",
       "       [0.21136097, 0.78863903],\n",
       "       [0.2372814 , 0.7627186 ],\n",
       "       [0.29086427, 0.70913573],\n",
       "       [0.22223011, 0.77776989],\n",
       "       [0.18198359, 0.81801641],\n",
       "       [0.19323448, 0.80676552],\n",
       "       [0.16010221, 0.83989779],\n",
       "       [0.08436002, 0.91563998],\n",
       "       [0.12711461, 0.87288539],\n",
       "       [0.00527141, 0.99472859],\n",
       "       [0.04579308, 0.95420692],\n",
       "       [0.02454096, 0.97545904],\n",
       "       [0.19281502, 0.80718498],\n",
       "       [0.94125363, 0.05874637],\n",
       "       [0.66354681, 0.33645319],\n",
       "       [0.135562  , 0.864438  ],\n",
       "       [0.87345447, 0.12654553],\n",
       "       [0.68751778, 0.31248222],\n",
       "       [0.99339289, 0.00660711],\n",
       "       [0.02834647, 0.97165353],\n",
       "       [0.64495159, 0.35504841],\n",
       "       [0.0213359 , 0.9786641 ],\n",
       "       [0.66009544, 0.33990456],\n",
       "       [0.04278437, 0.95721563],\n",
       "       [0.99775378, 0.00224622],\n",
       "       [0.55310076, 0.44689924],\n",
       "       [0.39512156, 0.60487844],\n",
       "       [0.969447  , 0.030553  ],\n",
       "       [0.00849416, 0.99150584],\n",
       "       [0.0827154 , 0.9172846 ],\n",
       "       [0.03064702, 0.96935298],\n",
       "       [0.23123257, 0.76876743],\n",
       "       [0.04562343, 0.95437657],\n",
       "       [0.90271509, 0.09728491],\n",
       "       [0.89103061, 0.10896939],\n",
       "       [0.01581952, 0.98418048],\n",
       "       [0.98861619, 0.01138381],\n",
       "       [0.00308392, 0.99691608],\n",
       "       [0.99020259, 0.00979741],\n",
       "       [0.09468588, 0.90531412],\n",
       "       [0.02918471, 0.97081529],\n",
       "       [0.68321873, 0.31678127],\n",
       "       [0.99009489, 0.00990511],\n",
       "       [0.2551738 , 0.7448262 ],\n",
       "       [0.24088965, 0.75911035],\n",
       "       [0.66235331, 0.33764669],\n",
       "       [0.62337071, 0.37662929],\n",
       "       [0.18316539, 0.81683461],\n",
       "       [0.06094585, 0.93905415],\n",
       "       [0.27581012, 0.72418988],\n",
       "       [0.66980632, 0.33019368],\n",
       "       [0.41326363, 0.58673637],\n",
       "       [0.98865664, 0.01134336],\n",
       "       [0.26557071, 0.73442929],\n",
       "       [0.83147497, 0.16852503],\n",
       "       [0.01946619, 0.98053381],\n",
       "       [0.03068803, 0.96931197],\n",
       "       [0.90027023, 0.09972977],\n",
       "       [0.26664012, 0.73335988],\n",
       "       [0.14074161, 0.85925839],\n",
       "       [0.03812636, 0.96187364],\n",
       "       [0.47459702, 0.52540298],\n",
       "       [0.9298076 , 0.0701924 ],\n",
       "       [0.32867575, 0.67132425],\n",
       "       [0.5197804 , 0.4802196 ],\n",
       "       [0.99036787, 0.00963213],\n",
       "       [0.05025685, 0.94974315],\n",
       "       [0.08290018, 0.91709982],\n",
       "       [0.04097889, 0.95902111],\n",
       "       [0.7350023 , 0.2649977 ],\n",
       "       [0.96784494, 0.03215506],\n",
       "       [0.27220643, 0.72779357],\n",
       "       [0.79059381, 0.20940619],\n",
       "       [0.54350381, 0.45649619],\n",
       "       [0.99865379, 0.00134621],\n",
       "       [0.03876973, 0.96123027],\n",
       "       [0.45566169, 0.54433831],\n",
       "       [0.04587566, 0.95412434],\n",
       "       [0.98431347, 0.01568653],\n",
       "       [0.11498652, 0.88501348],\n",
       "       [0.95461201, 0.04538799],\n",
       "       [0.05241282, 0.94758718],\n",
       "       [0.98916446, 0.01083554],\n",
       "       [0.92040654, 0.07959346],\n",
       "       [0.38184969, 0.61815031],\n",
       "       [0.17600478, 0.82399522],\n",
       "       [0.07052543, 0.92947457],\n",
       "       [0.75079402, 0.24920598],\n",
       "       [0.41508375, 0.58491625],\n",
       "       [0.4980573 , 0.5019427 ],\n",
       "       [0.19423753, 0.80576247],\n",
       "       [0.04538915, 0.95461085],\n",
       "       [0.30759201, 0.69240799],\n",
       "       [0.97947598, 0.02052402],\n",
       "       [0.00607619, 0.99392381],\n",
       "       [0.10194571, 0.89805429],\n",
       "       [0.36521863, 0.63478137],\n",
       "       [0.07711486, 0.92288514],\n",
       "       [0.9945579 , 0.0054421 ],\n",
       "       [0.07261387, 0.92738613],\n",
       "       [0.19707176, 0.80292824],\n",
       "       [0.05224559, 0.94775441],\n",
       "       [0.0308165 , 0.9691835 ]])"
      ]
     },
     "execution_count": 33,
     "metadata": {},
     "output_type": "execute_result"
    }
   ],
   "source": [
    "prabability = lm.predict_proba(x_test)\n",
    "prabability"
   ]
  },
  {
   "cell_type": "code",
   "execution_count": 38,
   "metadata": {},
   "outputs": [],
   "source": [
    "probability_positive = prabability[:,1]"
   ]
  },
  {
   "cell_type": "code",
   "execution_count": 42,
   "metadata": {},
   "outputs": [],
   "source": [
    "from sklearn import metrics\n",
    "fpr,tpr,threshold = metrics.roc_curve(y_test,probability_positive)"
   ]
  },
  {
   "cell_type": "code",
   "execution_count": null,
   "metadata": {},
   "outputs": [],
   "source": []
  },
  {
   "cell_type": "code",
   "execution_count": 46,
   "metadata": {},
   "outputs": [
    {
     "data": {
      "text/plain": [
       "0.8943072702331961"
      ]
     },
     "execution_count": 46,
     "metadata": {},
     "output_type": "execute_result"
    }
   ],
   "source": [
    "roc_auc = metrics.auc(fpr,tpr)\n",
    "roc_auc"
   ]
  },
  {
   "cell_type": "code",
   "execution_count": 48,
   "metadata": {},
   "outputs": [
    {
     "data": {
      "text/plain": [
       "[<matplotlib.lines.Line2D at 0x24b7fa3d048>]"
      ]
     },
     "execution_count": 48,
     "metadata": {},
     "output_type": "execute_result"
    },
    {
     "data": {
      "image/png": "[encoded data removed]",
      "text/plain": [
       "<Figure size 432x288 with 1 Axes>"
      ]
     },
     "metadata": {
      "needs_background": "light"
     },
     "output_type": "display_data"
    }
   ],
   "source": [
    "from matplotlib import pyplot as plt\n",
    "plt.plot(fpr,tpr,label = 'AUC= %0.2f' % roc_auc)"
   ]
  },
  {
   "cell_type": "markdown",
   "metadata": {},
   "source": [
    "# LogisticRegression with StandardScaler"
   ]
  },
  {
   "cell_type": "code",
   "execution_count": 13,
   "metadata": {},
   "outputs": [],
   "source": [
    "import warnings\n",
    "warnings.filterwarnings('ignore')"
   ]
  },
  {
   "cell_type": "code",
   "execution_count": 17,
   "metadata": {},
   "outputs": [],
   "source": [
    "from sklearn.preprocessing import StandardScaler\n",
    "sc = StandardScaler()\n",
    "x_in = x\n",
    "x_scaled = sc.fit_transform(x_in)\n",
    "x_input = pd.DataFrame(x_scaled)"
   ]
  },
  {
   "cell_type": "code",
   "execution_count": 18,
   "metadata": {},
   "outputs": [],
   "source": [
    "x_train1,x_test1,y_train,y_test = train_test_split(x_input,y,test_size = 0.8, random_state = 0)"
   ]
  },
  {
   "cell_type": "code",
   "execution_count": 19,
   "metadata": {},
   "outputs": [
    {
     "name": "stdout",
     "output_type": "stream",
     "text": [
      "[[ 79  21]\n",
      " [ 29 114]]\n",
      "0.7942386831275721\n"
     ]
    }
   ],
   "source": [
    "lm1 = LogisticRegression()\n",
    "lm1.fit(x_train1,y_train)\n",
    "pred1 = lm1.predict(x_test1)\n",
    "cm1 = confusion_matrix(pred1,y_test)\n",
    "accu1 = accuracy_score(pred1,y_test)\n",
    "print(cm1)\n",
    "print(accu1)"
   ]
  },
  {
   "cell_type": "code",
   "execution_count": null,
   "metadata": {},
   "outputs": [],
   "source": []
  }
 ],
 "metadata": {
  "kernelspec": {
   "display_name": "Python 3",
   "language": "python",
   "name": "python3"
  },
  "language_info": {
   "codemirror_mode": {
    "name": "ipython",
    "version": 3
   },
   "file_extension": ".py",
   "mimetype": "text/x-python",
   "name": "python",
   "nbconvert_exporter": "python",
   "pygments_lexer": "ipython3",
   "version": "3.7.1"
  }
 },
 "nbformat": 4,
 "nbformat_minor": 2
}
